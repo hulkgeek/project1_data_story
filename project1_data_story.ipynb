{
 "cells": [
  {
   "cell_type": "markdown",
   "metadata": {},
   "source": [
    "# Capstone Project 1 - Data Story"
   ]
  },
  {
   "cell_type": "markdown",
   "metadata": {},
   "source": [
    "### Questions to answer:\n",
    "Q1 - Are there some keywords that can discriminate the different types of questions? What are they?\n",
    "\n",
    "Q2 - How Five Ws and How would help with the classification?"
   ]
  },
  {
   "cell_type": "code",
   "execution_count": 2,
   "metadata": {},
   "outputs": [],
   "source": [
    "%matplotlib inline"
   ]
  },
  {
   "cell_type": "code",
   "execution_count": 3,
   "metadata": {},
   "outputs": [],
   "source": [
    "import codecs\n",
    "import re\n",
    "\n",
    "from collections import Counter\n",
    "\n",
    "import matplotlib.pyplot as plt\n",
    "import pandas as pd\n",
    "\n",
    "import spacy"
   ]
  },
  {
   "cell_type": "code",
   "execution_count": 4,
   "metadata": {},
   "outputs": [],
   "source": [
    "# download spacy dictionary \n",
    "nlp = spacy.load('en_core_web_lg')"
   ]
  },
  {
   "cell_type": "code",
   "execution_count": 6,
   "metadata": {},
   "outputs": [
    {
     "data": {
      "text/html": [
       "<div>\n",
       "<style scoped>\n",
       "    .dataframe tbody tr th:only-of-type {\n",
       "        vertical-align: middle;\n",
       "    }\n",
       "\n",
       "    .dataframe tbody tr th {\n",
       "        vertical-align: top;\n",
       "    }\n",
       "\n",
       "    .dataframe thead th {\n",
       "        text-align: right;\n",
       "    }\n",
       "</style>\n",
       "<table border=\"1\" class=\"dataframe\">\n",
       "  <thead>\n",
       "    <tr style=\"text-align: right;\">\n",
       "      <th></th>\n",
       "      <th>label</th>\n",
       "      <th>sublabel</th>\n",
       "      <th>question</th>\n",
       "    </tr>\n",
       "  </thead>\n",
       "  <tbody>\n",
       "    <tr>\n",
       "      <th>0</th>\n",
       "      <td>DESC</td>\n",
       "      <td>manner</td>\n",
       "      <td>How did serfdom develop in and then leave Russ...</td>\n",
       "    </tr>\n",
       "    <tr>\n",
       "      <th>1</th>\n",
       "      <td>ENTY</td>\n",
       "      <td>cremat</td>\n",
       "      <td>What films featured the character Popeye Doyle ?</td>\n",
       "    </tr>\n",
       "    <tr>\n",
       "      <th>2</th>\n",
       "      <td>DESC</td>\n",
       "      <td>manner</td>\n",
       "      <td>How can I find a list of celebrities ' real na...</td>\n",
       "    </tr>\n",
       "    <tr>\n",
       "      <th>3</th>\n",
       "      <td>ENTY</td>\n",
       "      <td>animal</td>\n",
       "      <td>What fowl grabs the spotlight after the Chines...</td>\n",
       "    </tr>\n",
       "    <tr>\n",
       "      <th>4</th>\n",
       "      <td>ABBR</td>\n",
       "      <td>exp</td>\n",
       "      <td>What is the full form of .com ?</td>\n",
       "    </tr>\n",
       "  </tbody>\n",
       "</table>\n",
       "</div>"
      ],
      "text/plain": [
       "  label sublabel                                           question\n",
       "0  DESC   manner  How did serfdom develop in and then leave Russ...\n",
       "1  ENTY   cremat   What films featured the character Popeye Doyle ?\n",
       "2  DESC   manner  How can I find a list of celebrities ' real na...\n",
       "3  ENTY   animal  What fowl grabs the spotlight after the Chines...\n",
       "4  ABBR      exp                    What is the full form of .com ?"
      ]
     },
     "execution_count": 6,
     "metadata": {},
     "output_type": "execute_result"
    }
   ],
   "source": [
    "# read dataset file into a list of lines\n",
    "file_name = \"train_5500.label\"\n",
    "with open(file_name, 'rb') as f:\n",
    "    txt = f.read()\n",
    "lines = txt.decode('latin').splitlines()\n",
    "\n",
    "# build a dataframe with columns: 'label', 'sublabel','question'\n",
    "df = []\n",
    "for idx, line in enumerate(lines):\n",
    "    match = re.match('([A-Z]+)\\:([a-z]+)[ ]+(.+)',line)\n",
    "    df.append(match.groups())\n",
    "df = pd.DataFrame(df, columns = ['label', 'sublabel','question'])\n",
    "df.head()"
   ]
  },
  {
   "cell_type": "code",
   "execution_count": 10,
   "metadata": {},
   "outputs": [
    {
     "data": {
      "text/html": [
       "<div>\n",
       "<style scoped>\n",
       "    .dataframe tbody tr th:only-of-type {\n",
       "        vertical-align: middle;\n",
       "    }\n",
       "\n",
       "    .dataframe tbody tr th {\n",
       "        vertical-align: top;\n",
       "    }\n",
       "\n",
       "    .dataframe thead th {\n",
       "        text-align: right;\n",
       "    }\n",
       "</style>\n",
       "<table border=\"1\" class=\"dataframe\">\n",
       "  <thead>\n",
       "    <tr style=\"text-align: right;\">\n",
       "      <th></th>\n",
       "      <th>HUM</th>\n",
       "      <th>DESC</th>\n",
       "      <th>ENTY</th>\n",
       "      <th>LOC</th>\n",
       "      <th>ABBR</th>\n",
       "      <th>NUM</th>\n",
       "    </tr>\n",
       "  </thead>\n",
       "  <tbody>\n",
       "    <tr>\n",
       "      <th>zone</th>\n",
       "      <td>NaN</td>\n",
       "      <td>NaN</td>\n",
       "      <td>NaN</td>\n",
       "      <td>NaN</td>\n",
       "      <td>NaN</td>\n",
       "      <td>1.0</td>\n",
       "    </tr>\n",
       "    <tr>\n",
       "      <th>zones</th>\n",
       "      <td>NaN</td>\n",
       "      <td>NaN</td>\n",
       "      <td>NaN</td>\n",
       "      <td>1.0</td>\n",
       "      <td>NaN</td>\n",
       "      <td>1.0</td>\n",
       "    </tr>\n",
       "    <tr>\n",
       "      <th>zoo</th>\n",
       "      <td>NaN</td>\n",
       "      <td>NaN</td>\n",
       "      <td>NaN</td>\n",
       "      <td>1.0</td>\n",
       "      <td>NaN</td>\n",
       "      <td>NaN</td>\n",
       "    </tr>\n",
       "    <tr>\n",
       "      <th>zoological</th>\n",
       "      <td>NaN</td>\n",
       "      <td>1.0</td>\n",
       "      <td>NaN</td>\n",
       "      <td>NaN</td>\n",
       "      <td>NaN</td>\n",
       "      <td>NaN</td>\n",
       "    </tr>\n",
       "    <tr>\n",
       "      <th>zoonose</th>\n",
       "      <td>NaN</td>\n",
       "      <td>NaN</td>\n",
       "      <td>1.0</td>\n",
       "      <td>NaN</td>\n",
       "      <td>NaN</td>\n",
       "      <td>NaN</td>\n",
       "    </tr>\n",
       "  </tbody>\n",
       "</table>\n",
       "</div>"
      ],
      "text/plain": [
       "            HUM  DESC  ENTY  LOC  ABBR  NUM\n",
       "zone        NaN   NaN   NaN  NaN   NaN  1.0\n",
       "zones       NaN   NaN   NaN  1.0   NaN  1.0\n",
       "zoo         NaN   NaN   NaN  1.0   NaN  NaN\n",
       "zoological  NaN   1.0   NaN  NaN   NaN  NaN\n",
       "zoonose     NaN   NaN   1.0  NaN   NaN  NaN"
      ]
     },
     "execution_count": 10,
     "metadata": {},
     "output_type": "execute_result"
    }
   ],
   "source": [
    "# build a dataframe of word counts with question labels as columns and indexed by the words\n",
    "labels = ['HUM', 'DESC', 'ENTY', 'LOC', 'ABBR', 'NUM']\n",
    "word_count= dict.fromkeys(labels)\n",
    "for label in labels:\n",
    "    word_count_labeled = Counter()\n",
    "    for idx, row in df[df['label'] == label].iterrows():\n",
    "        doc = nlp(row['question'])\n",
    "        word_count_labeled += Counter([t.text for t in doc \n",
    "                                      if t.pos_ in \n",
    "                                      ['NOUN', 'PROPN', 'ADJ', 'ADV', 'PRON']])\n",
    "        word_count[label] = dict(word_count_labeled)\n",
    "df_word_count = pd.DataFrame(word_count)\n",
    "df_word_count.tail()"
   ]
  },
  {
   "cell_type": "code",
   "execution_count": 31,
   "metadata": {},
   "outputs": [
    {
     "data": {
      "text/html": [
       "<div>\n",
       "<style scoped>\n",
       "    .dataframe tbody tr th:only-of-type {\n",
       "        vertical-align: middle;\n",
       "    }\n",
       "\n",
       "    .dataframe tbody tr th {\n",
       "        vertical-align: top;\n",
       "    }\n",
       "\n",
       "    .dataframe thead th {\n",
       "        text-align: right;\n",
       "    }\n",
       "</style>\n",
       "<table border=\"1\" class=\"dataframe\">\n",
       "  <thead>\n",
       "    <tr style=\"text-align: right;\">\n",
       "      <th></th>\n",
       "      <th>HUM</th>\n",
       "      <th>DESC</th>\n",
       "      <th>ENTY</th>\n",
       "      <th>LOC</th>\n",
       "      <th>ABBR</th>\n",
       "      <th>NUM</th>\n",
       "    </tr>\n",
       "  </thead>\n",
       "  <tbody>\n",
       "    <tr>\n",
       "      <th>Who</th>\n",
       "      <td>8.605296</td>\n",
       "      <td>NaN</td>\n",
       "      <td>NaN</td>\n",
       "      <td>NaN</td>\n",
       "      <td>NaN</td>\n",
       "      <td>NaN</td>\n",
       "    </tr>\n",
       "    <tr>\n",
       "      <th>What</th>\n",
       "      <td>4.633621</td>\n",
       "      <td>15.472901</td>\n",
       "      <td>12.449799</td>\n",
       "      <td>7.622183</td>\n",
       "      <td>28.421053</td>\n",
       "      <td>3.727506</td>\n",
       "    </tr>\n",
       "    <tr>\n",
       "      <th>name</th>\n",
       "      <td>1.462438</td>\n",
       "      <td>NaN</td>\n",
       "      <td>1.372155</td>\n",
       "      <td>NaN</td>\n",
       "      <td>NaN</td>\n",
       "      <td>NaN</td>\n",
       "    </tr>\n",
       "    <tr>\n",
       "      <th>first</th>\n",
       "      <td>1.246921</td>\n",
       "      <td>NaN</td>\n",
       "      <td>0.836680</td>\n",
       "      <td>NaN</td>\n",
       "      <td>NaN</td>\n",
       "      <td>NaN</td>\n",
       "    </tr>\n",
       "    <tr>\n",
       "      <th>company</th>\n",
       "      <td>0.646552</td>\n",
       "      <td>NaN</td>\n",
       "      <td>NaN</td>\n",
       "      <td>NaN</td>\n",
       "      <td>NaN</td>\n",
       "      <td>NaN</td>\n",
       "    </tr>\n",
       "  </tbody>\n",
       "</table>\n",
       "</div>"
      ],
      "text/plain": [
       "              HUM       DESC       ENTY       LOC       ABBR       NUM\n",
       "Who      8.605296        NaN        NaN       NaN        NaN       NaN\n",
       "What     4.633621  15.472901  12.449799  7.622183  28.421053  3.727506\n",
       "name     1.462438        NaN   1.372155       NaN        NaN       NaN\n",
       "first    1.246921        NaN   0.836680       NaN        NaN       NaN\n",
       "company  0.646552        NaN        NaN       NaN        NaN       NaN"
      ]
     },
     "execution_count": 31,
     "metadata": {},
     "output_type": "execute_result"
    }
   ],
   "source": [
    "# build a dataframe with the most common words for each label\n",
    "df_word_top_five = pd.DataFrame()\n",
    "for col in df_word_count.columns:\n",
    "    df_word_top_five = pd.concat([df_word_top_five, df_word_count[col].\n",
    "                               sort_values(ascending=False).head(5)/\n",
    "                               df_word_count[col].sum()*100], axis=1, sort=False)\n",
    "df_word_top_five.head()"
   ]
  },
  {
   "cell_type": "code",
   "execution_count": 32,
   "metadata": {
    "scrolled": true
   },
   "outputs": [
    {
     "data": {
      "image/png": "[encoded data removed]",
      "text/plain": [
       "<Figure size 1440x360 with 1 Axes>"
      ]
     },
     "metadata": {
      "needs_background": "light"
     },
     "output_type": "display_data"
    }
   ],
   "source": [
    "# plot the top 5 common words for each label as the % of total counts/label\n",
    "plt.rcParams['figure.figsize'] = [20, 5]\n",
    "plt.rcParams.update({'font.size': 14})\n",
    "df_word_top_five.plot.bar(width=0.8)\n",
    "plt.xlabel('Top 5 Words in each Category')\n",
    "plt.ylabel('% of Counts in each Category')\n",
    "plt.xticks()\n",
    "plt.show()"
   ]
  },
  {
   "cell_type": "markdown",
   "metadata": {},
   "source": [
    "### Answers\n",
    "A1 - The chart above shows the top 5 common words in each category. Some keywords seem to have some discrimination power:\n",
    "\n",
    "- Who (HUM), Where (LOC), many (NUM), abbreviation (ABBR)\n",
    "\n",
    "Note: ENTY and DESC seem to not have a powerful discriminating single keyword -> likely low classification accuracy\n",
    "\n",
    "A2 - \"Who\" and \"Where\" have the most discriminating power, then \"When\", \"Why\", and \"How\". \"What\" dose not seem to be a key W word."
   ]
  }
 ],
 "metadata": {
  "kernelspec": {
   "display_name": "Python 3",
   "language": "python",
   "name": "python3"
  },
  "language_info": {
   "codemirror_mode": {
    "name": "ipython",
    "version": 3
   },
   "file_extension": ".py",
   "mimetype": "text/x-python",
   "name": "python",
   "nbconvert_exporter": "python",
   "pygments_lexer": "ipython3",
   "version": "3.7.3"
  }
 },
 "nbformat": 4,
 "nbformat_minor": 2
}
